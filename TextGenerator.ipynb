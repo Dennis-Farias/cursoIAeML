{
  "nbformat": 4,
  "nbformat_minor": 0,
  "metadata": {
    "colab": {
      "provenance": [],
      "authorship_tag": "ABX9TyP6LrI+ow60atfFh705c+/d",
      "include_colab_link": true
    },
    "kernelspec": {
      "name": "python3",
      "display_name": "Python 3"
    },
    "language_info": {
      "name": "python"
    }
  },
  "cells": [
    {
      "cell_type": "markdown",
      "metadata": {
        "id": "view-in-github",
        "colab_type": "text"
      },
      "source": [
        "<a href=\"https://colab.research.google.com/github/Dennis-Farias/cursoIAeML/blob/main/TextGenerator.ipynb\" target=\"_parent\"><img src=\"https://colab.research.google.com/assets/colab-badge.svg\" alt=\"Open In Colab\"/></a>"
      ]
    },
    {
      "cell_type": "code",
      "execution_count": null,
      "metadata": {
        "id": "gbiZZnXiDEGF"
      },
      "outputs": [],
      "source": [
        "!pip install transformers"
      ]
    },
    {
      "cell_type": "code",
      "source": [
        "import transformers\n",
        "from transformers import pipeline"
      ],
      "metadata": {
        "id": "CPk58wjdDNYR"
      },
      "execution_count": 3,
      "outputs": []
    },
    {
      "cell_type": "code",
      "source": [
        "gerador = pipeline('text-generation', model='pierreguillou/gpt2-small-portuguese')\n",
        "text = 'Um transformers é um grande modelo de linguagem natural'\n",
        "resultado = gerador(text, max_length=100, do_sample=True)\n",
        "print(resultado)"
      ],
      "metadata": {
        "colab": {
          "base_uri": "https://localhost:8080/"
        },
        "id": "YqdlYX5CERqU",
        "outputId": "9d9f57dd-c15c-4440-ff62-ec8d5f3739d7"
      },
      "execution_count": 6,
      "outputs": [
        {
          "output_type": "stream",
          "name": "stderr",
          "text": [
            "Truncation was not explicitly activated but `max_length` is provided a specific value, please use `truncation=True` to explicitly truncate examples to max length. Defaulting to 'longest_first' truncation strategy. If you encode pairs of sequences (GLUE-style) with the tokenizer you can select this strategy more precisely by providing a specific strategy to `truncation`.\n"
          ]
        },
        {
          "output_type": "stream",
          "name": "stdout",
          "text": [
            "[{'generated_text': 'Um transformers é um grande modelo de linguagem natural para aplicações que se concentram em uma categoria mais ampla, incluindo estruturas de dados e modelos. Não é possível expressar estruturas de dados sem traduzir suas informações a sistemas de linguagens regulares através de transformações, enquanto processos de computação parecem ser baseados em formas binárias para a forma normal de expressões normais. Por suas aplicações não-interativas, há diferenças importantes em sua semântica; a estrutura genérica mais comumente usada para descrever as estruturas de dados, por exemplo, é o tipo'}]\n"
          ]
        }
      ]
    }
  ]
}