{
  "nbformat": 4,
  "nbformat_minor": 0,
  "metadata": {
    "colab": {
      "provenance": [],
      "authorship_tag": "ABX9TyN5v2NaRXmpCFUCwgVQjHXQ",
      "include_colab_link": true
    },
    "kernelspec": {
      "name": "python3",
      "display_name": "Python 3"
    },
    "language_info": {
      "name": "python"
    }
  },
  "cells": [
    {
      "cell_type": "markdown",
      "metadata": {
        "id": "view-in-github",
        "colab_type": "text"
      },
      "source": [
        "<a href=\"https://colab.research.google.com/github/Dennis-Farias/cursoIAeML/blob/main/ExpSmoothing.ipynb\" target=\"_parent\"><img src=\"https://colab.research.google.com/assets/colab-badge.svg\" alt=\"Open In Colab\"/></a>"
      ]
    },
    {
      "cell_type": "code",
      "execution_count": 1,
      "metadata": {
        "id": "zYorcaeO7Di1"
      },
      "outputs": [],
      "source": [
        "import numpy as np\n",
        "import pandas as pd\n",
        "import matplotlib.pyplot as plt\n",
        "from statsmodels.tsa.holtwinters import SimpleExpSmoothing"
      ]
    },
    {
      "cell_type": "code",
      "source": [
        "np.random.seed(5)\n",
        "data = np.random.normal(0,1,100) + np.linspace(0,1,100)\n",
        "data[50] = 4"
      ],
      "metadata": {
        "id": "bBgg31HT7elk"
      },
      "execution_count": 3,
      "outputs": []
    },
    {
      "cell_type": "code",
      "source": [
        "modelo = SimpleExpSmoothing(data)\n",
        "model_fit = modelo.fit(smoothing_level=0.2)"
      ],
      "metadata": {
        "id": "bNjtPOJm7qYu"
      },
      "execution_count": null,
      "outputs": []
    },
    {
      "cell_type": "code",
      "source": [
        "data_pred = model_fit.predict(0, len(data)-1)"
      ],
      "metadata": {
        "id": "FxcU1rJm72pq"
      },
      "execution_count": 5,
      "outputs": []
    },
    {
      "cell_type": "code",
      "source": [
        "data_pred"
      ],
      "metadata": {
        "id": "XYmwLzOF7_BS"
      },
      "execution_count": null,
      "outputs": []
    },
    {
      "cell_type": "code",
      "source": [
        "anomalies = np.where(np.abs(data - data_pred) > 3 * np.std(data))[0]"
      ],
      "metadata": {
        "id": "nn8g6ykz8A0G"
      },
      "execution_count": 7,
      "outputs": []
    },
    {
      "cell_type": "code",
      "source": [
        "data[anomalies]"
      ],
      "metadata": {
        "id": "V3fNKlbf8OSc"
      },
      "execution_count": null,
      "outputs": []
    },
    {
      "cell_type": "code",
      "source": [
        "plt.plot(data, label='Dados Originais')\n",
        "plt.plot(data_pred, label='Suavização Exponencial')\n",
        "plt.plot(anomalies, data[anomalies], 'ro', label='Anomalies')\n",
        "plt.legend()\n",
        "plt.show()"
      ],
      "metadata": {
        "id": "TIcJwz248SyM"
      },
      "execution_count": null,
      "outputs": []
    }
  ]
}