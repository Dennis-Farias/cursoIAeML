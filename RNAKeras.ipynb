{
  "nbformat": 4,
  "nbformat_minor": 0,
  "metadata": {
    "colab": {
      "provenance": [],
      "authorship_tag": "ABX9TyOdjAuCS7HJVQZGLALvrRny",
      "include_colab_link": true
    },
    "kernelspec": {
      "name": "python3",
      "display_name": "Python 3"
    },
    "language_info": {
      "name": "python"
    }
  },
  "cells": [
    {
      "cell_type": "markdown",
      "metadata": {
        "id": "view-in-github",
        "colab_type": "text"
      },
      "source": [
        "<a href=\"https://colab.research.google.com/github/Dennis-Farias/cursoIAeML/blob/main/RNAKeras.ipynb\" target=\"_parent\"><img src=\"https://colab.research.google.com/assets/colab-badge.svg\" alt=\"Open In Colab\"/></a>"
      ]
    },
    {
      "cell_type": "code",
      "execution_count": 1,
      "metadata": {
        "id": "pkuB6yS_LLc7"
      },
      "outputs": [],
      "source": [
        "import pandas as pd\n",
        "import numpy as np\n",
        "from sklearn.model_selection import train_test_split\n",
        "from sklearn.preprocessing import StandardScaler, LabelEncoder\n",
        "from sklearn.metrics import accuracy_score, confusion_matrix, f1_score, recall_score\n",
        "from keras.models import Sequential\n",
        "from keras.layers import Dense, Dropout"
      ]
    },
    {
      "cell_type": "code",
      "source": [
        "df = pd.read_csv('Churn_treino.csv', sep=';')\n",
        "df.head()"
      ],
      "metadata": {
        "id": "ZPh0EPLlMHMr"
      },
      "execution_count": null,
      "outputs": []
    },
    {
      "cell_type": "code",
      "source": [
        "X = df.drop('Exited', axis=1)\n",
        "y = df['Exited']"
      ],
      "metadata": {
        "id": "6w2ZI4N4Mij4"
      },
      "execution_count": 3,
      "outputs": []
    },
    {
      "cell_type": "code",
      "source": [
        "standardscaler = StandardScaler()\n",
        "numerical = X.select_dtypes(include=['int64', 'float64']).columns\n",
        "X[numerical] = standardscaler.fit_transform(X[numerical])"
      ],
      "metadata": {
        "id": "E70KuuIIMq4L"
      },
      "execution_count": 4,
      "outputs": []
    },
    {
      "cell_type": "code",
      "source": [
        "labelencoder = LabelEncoder()\n",
        "categorical = X.select_dtypes(include='object').columns\n",
        "for col in categorical:\n",
        "    X[col] = labelencoder.fit_transform(X[col])"
      ],
      "metadata": {
        "id": "seQsjqTcNIQm"
      },
      "execution_count": 6,
      "outputs": []
    },
    {
      "cell_type": "code",
      "source": [
        "X_treino, X_teste, y_treino, y_teste = train_test_split(X, y, test_size=0.3, random_state=0)"
      ],
      "metadata": {
        "id": "r0Io44H7N7x-"
      },
      "execution_count": 10,
      "outputs": []
    },
    {
      "cell_type": "code",
      "source": [
        "modelo = Sequential()\n",
        "modelo.add(Dense(units=64, activation='relu', input_dim=X_treino.shape[1]))\n",
        "modelo.add(Dropout(0.4))\n",
        "modelo.add(Dense(units=32, activation='relu'))\n",
        "modelo.add(Dropout(0.4))\n",
        "modelo.add(Dense(units=64, activation='relu'))\n",
        "modelo.add(Dropout(0.4))\n",
        "modelo.add(Dense(units=1, activation='sigmoid'))"
      ],
      "metadata": {
        "id": "SeaVAUL7OX-S"
      },
      "execution_count": null,
      "outputs": []
    },
    {
      "cell_type": "code",
      "source": [
        "modelo.compile(optimizer='adam', loss='binary_crossentropy', metrics=['accuracy'])\n",
        "modelo.fit(X_treino, y_treino, epochs=50, batch_size=32)"
      ],
      "metadata": {
        "id": "PJvB7VvqP6Su"
      },
      "execution_count": null,
      "outputs": []
    },
    {
      "cell_type": "code",
      "source": [
        "previsoes = modelo.predict(X_teste)\n",
        "previsoes"
      ],
      "metadata": {
        "id": "-Md2bvGsSb9z"
      },
      "execution_count": null,
      "outputs": []
    },
    {
      "cell_type": "code",
      "source": [
        "y_pred = (previsoes > 0.5).astype('int32')\n",
        "y_pred"
      ],
      "metadata": {
        "id": "soTxSqfwSuCs"
      },
      "execution_count": null,
      "outputs": []
    },
    {
      "cell_type": "code",
      "source": [
        "print('Acurácia: ', accuracy_score(y_teste, y_pred))\n",
        "print('F1: ', f1_score(y_teste, y_pred))\n",
        "print('Recall: ', recall_score(y_teste, y_pred))\n",
        "print('Matriz de confusão: \\n', confusion_matrix(y_teste, y_pred))"
      ],
      "metadata": {
        "colab": {
          "base_uri": "https://localhost:8080/"
        },
        "id": "BMrDBqwmS3hG",
        "outputId": "c68eea60-5979-42af-e27c-f10e7b559fed"
      },
      "execution_count": 19,
      "outputs": [
        {
          "output_type": "stream",
          "name": "stdout",
          "text": [
            "Acurácia:  0.8553333333333333\n",
            "F1:  0.5858778625954199\n",
            "Recall:  0.4943639291465378\n",
            "Matriz de confusão: \n",
            " [[2259  120]\n",
            " [ 314  307]]\n"
          ]
        }
      ]
    }
  ]
}