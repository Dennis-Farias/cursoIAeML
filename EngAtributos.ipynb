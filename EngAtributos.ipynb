{
  "nbformat": 4,
  "nbformat_minor": 0,
  "metadata": {
    "colab": {
      "provenance": [],
      "authorship_tag": "ABX9TyNQ/fryIorV6VLbJ8BbO615",
      "include_colab_link": true
    },
    "kernelspec": {
      "name": "python3",
      "display_name": "Python 3"
    },
    "language_info": {
      "name": "python"
    }
  },
  "cells": [
    {
      "cell_type": "markdown",
      "metadata": {
        "id": "view-in-github",
        "colab_type": "text"
      },
      "source": [
        "<a href=\"https://colab.research.google.com/github/Dennis-Farias/cursoIAeML/blob/main/EngAtributos.ipynb\" target=\"_parent\"><img src=\"https://colab.research.google.com/assets/colab-badge.svg\" alt=\"Open In Colab\"/></a>"
      ]
    },
    {
      "cell_type": "code",
      "execution_count": 1,
      "metadata": {
        "id": "FnKWw19Gi7RT"
      },
      "outputs": [],
      "source": [
        "import pandas as pd\n",
        "from sklearn.preprocessing import LabelEncoder, StandardScaler"
      ]
    },
    {
      "cell_type": "code",
      "source": [
        "dataset = pd.read_csv('credit_simple.csv', sep=';')\n",
        "dataset.shape"
      ],
      "metadata": {
        "id": "o8v0_X0qjIU8"
      },
      "execution_count": null,
      "outputs": []
    },
    {
      "cell_type": "code",
      "source": [
        "dataset.head()"
      ],
      "metadata": {
        "id": "-mzJiEIjjeaj"
      },
      "execution_count": null,
      "outputs": []
    },
    {
      "cell_type": "code",
      "source": [
        "y = dataset['CLASSE']\n",
        "X = dataset.iloc[:, :-1]"
      ],
      "metadata": {
        "id": "lAbdGxQWjjc1"
      },
      "execution_count": 4,
      "outputs": []
    },
    {
      "cell_type": "code",
      "source": [
        "X.isnull().sum()"
      ],
      "metadata": {
        "id": "ylVMSvdLjvKv"
      },
      "execution_count": null,
      "outputs": []
    },
    {
      "cell_type": "code",
      "source": [
        "mediana = X['SALDO_ATUAL'].median()\n",
        "mediana"
      ],
      "metadata": {
        "id": "STdT69aikaDc"
      },
      "execution_count": null,
      "outputs": []
    },
    {
      "cell_type": "code",
      "source": [
        "X['SALDO_ATUAL'].fillna(mediana, inplace=True)\n",
        "X.isnull().sum()"
      ],
      "metadata": {
        "id": "Fj7KtCuakeLL"
      },
      "execution_count": null,
      "outputs": []
    },
    {
      "cell_type": "code",
      "source": [
        "agrupado = X.groupby(['ESTADOCIVIL']).size()\n",
        "agrupado"
      ],
      "metadata": {
        "id": "APtOFozgkjsm"
      },
      "execution_count": null,
      "outputs": []
    },
    {
      "cell_type": "code",
      "source": [
        "X['ESTADOCIVIL'].fillna('masculino solteiro', inplace=True)\n",
        "X.isnull().sum()"
      ],
      "metadata": {
        "id": "DRfwGO9Vk9Dr"
      },
      "execution_count": null,
      "outputs": []
    },
    {
      "cell_type": "code",
      "source": [
        "desvio_padrao = X['SALDO_ATUAL'].std()\n",
        "desvio_padrao"
      ],
      "metadata": {
        "id": "VsDP9_W9lTbY"
      },
      "execution_count": null,
      "outputs": []
    },
    {
      "cell_type": "code",
      "source": [
        "X.loc[X['SALDO_ATUAL'] >= 2 * desvio_padrao]"
      ],
      "metadata": {
        "id": "Dq9_pFJkm5lL"
      },
      "execution_count": null,
      "outputs": []
    },
    {
      "cell_type": "code",
      "source": [
        "mediana = X['SALDO_ATUAL'].median()\n",
        "mediana"
      ],
      "metadata": {
        "id": "PrNwdakBnDKd"
      },
      "execution_count": null,
      "outputs": []
    },
    {
      "cell_type": "code",
      "source": [
        "X.loc[X['SALDO_ATUAL'] >= 2 * desvio_padrao, 'SALDO_ATUAL'] = mediana\n",
        "X.loc[X['SALDO_ATUAL'] >= 2 * desvio_padrao]"
      ],
      "metadata": {
        "id": "LkOWgGcTnN3y",
        "collapsed": true
      },
      "execution_count": null,
      "outputs": []
    },
    {
      "cell_type": "code",
      "source": [
        "agrupado = X.groupby(['PROPOSITO']).size()\n",
        "agrupado"
      ],
      "metadata": {
        "id": "5VqZXuHNILqS"
      },
      "execution_count": null,
      "outputs": []
    },
    {
      "cell_type": "code",
      "source": [
        "X.loc[X['PROPOSITO'] == 'Eletrodomésticos', 'PROPOSITO'] = 'outros'\n",
        "X.loc[X['PROPOSITO'] == 'qualificação', 'PROPOSITO'] = 'outros'\n",
        "agrupado = X.groupby(['PROPOSITO']).size()\n",
        "agrupado"
      ],
      "metadata": {
        "id": "ERjagniUIpPL"
      },
      "execution_count": null,
      "outputs": []
    },
    {
      "cell_type": "code",
      "source": [
        "X['DATA'] = pd.to_datetime(X['DATA'], format='%d/%m/%Y')"
      ],
      "metadata": {
        "id": "PoF9TW3iI_Wy"
      },
      "execution_count": 16,
      "outputs": []
    },
    {
      "cell_type": "code",
      "source": [
        "X['DATA']"
      ],
      "metadata": {
        "id": "wy3RkwIQJxXc"
      },
      "execution_count": null,
      "outputs": []
    },
    {
      "cell_type": "code",
      "source": [
        "X['ANO'] = X['DATA'].dt.year\n",
        "X['MES'] = X['DATA'].dt.month\n",
        "X['DIASEMANA'] = X['DATA'].dt.day_name()"
      ],
      "metadata": {
        "id": "3sOr0CdgJ2Af"
      },
      "execution_count": 18,
      "outputs": []
    },
    {
      "cell_type": "code",
      "source": [
        "X['DIASEMANA']"
      ],
      "metadata": {
        "id": "ojkKy73yKA3R"
      },
      "execution_count": null,
      "outputs": []
    },
    {
      "cell_type": "code",
      "source": [
        "X['ESTADOCIVIL'].unique()"
      ],
      "metadata": {
        "id": "EEfDSpGdKON4"
      },
      "execution_count": null,
      "outputs": []
    },
    {
      "cell_type": "code",
      "source": [
        "X['PROPOSITO'].unique()"
      ],
      "metadata": {
        "id": "3og0jWZhKWLV"
      },
      "execution_count": null,
      "outputs": []
    },
    {
      "cell_type": "code",
      "source": [
        "X['DIASEMANA'].unique()"
      ],
      "metadata": {
        "id": "wfzQShJpKZ3u"
      },
      "execution_count": null,
      "outputs": []
    },
    {
      "cell_type": "code",
      "source": [
        "labelencoder1 = LabelEncoder()\n",
        "X['ESTADOCIVIL'] = labelencoder1.fit_transform(X['ESTADOCIVIL'])\n",
        "X['PROPOSITO'] = labelencoder1.fit_transform(X['PROPOSITO'])\n",
        "X['DIASEMANA'] = labelencoder1.fit_transform(X['DIASEMANA'])"
      ],
      "metadata": {
        "id": "JSIgeIHzKkjq"
      },
      "execution_count": 23,
      "outputs": []
    },
    {
      "cell_type": "code",
      "source": [
        "X.head()"
      ],
      "metadata": {
        "id": "jCdGs1r0K6H3"
      },
      "execution_count": null,
      "outputs": []
    },
    {
      "cell_type": "code",
      "source": [
        "outros = X['OUTROSPLANOSPGTO'].unique()\n",
        "outros"
      ],
      "metadata": {
        "id": "wZrXI9-3LHDd"
      },
      "execution_count": null,
      "outputs": []
    },
    {
      "cell_type": "code",
      "source": [
        "z = pd.get_dummies(X['OUTROSPLANOSPGTO'], prefix = 'OUTROS')\n",
        "z.head()"
      ],
      "metadata": {
        "id": "wLB3HwJbLQYC"
      },
      "execution_count": null,
      "outputs": []
    },
    {
      "cell_type": "code",
      "source": [
        "X.head()"
      ],
      "metadata": {
        "id": "Jp3_yRFYLfNy"
      },
      "execution_count": null,
      "outputs": []
    },
    {
      "cell_type": "code",
      "source": [
        "sc = StandardScaler()\n",
        "m = sc.fit_transform(X.iloc[:,0:3])\n",
        "m"
      ],
      "metadata": {
        "id": "40xtB15FLmWt"
      },
      "execution_count": null,
      "outputs": []
    },
    {
      "cell_type": "code",
      "source": [
        "X = pd.concat([X, z, pd.DataFrame(m,columns = ['SALDO_ATUAL_N', 'RESIDENCIADESDE_N', 'IDADE_N'])], axis = 1)\n",
        "X.head()"
      ],
      "metadata": {
        "id": "MzxIkp2mLzep"
      },
      "execution_count": null,
      "outputs": []
    },
    {
      "cell_type": "code",
      "source": [
        "X.drop(columns=['SALDO_ATUAL', 'RESIDENCIADESDE', 'IDADE', 'OUTROSPLANOSPGTO', 'DATA', 'OUTROS_banco'], inplace=True)"
      ],
      "metadata": {
        "id": "oTpfMnUaM9o2"
      },
      "execution_count": null,
      "outputs": []
    },
    {
      "cell_type": "code",
      "source": [
        "X.head()"
      ],
      "metadata": {
        "id": "CRBzbw61OTe3"
      },
      "execution_count": null,
      "outputs": []
    }
  ]
}