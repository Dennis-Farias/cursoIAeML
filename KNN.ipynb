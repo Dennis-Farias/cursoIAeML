{
  "nbformat": 4,
  "nbformat_minor": 0,
  "metadata": {
    "colab": {
      "provenance": [],
      "authorship_tag": "ABX9TyO8QsE8C3csqK2ntmu61irR",
      "include_colab_link": true
    },
    "kernelspec": {
      "name": "python3",
      "display_name": "Python 3"
    },
    "language_info": {
      "name": "python"
    }
  },
  "cells": [
    {
      "cell_type": "markdown",
      "metadata": {
        "id": "view-in-github",
        "colab_type": "text"
      },
      "source": [
        "<a href=\"https://colab.research.google.com/github/Dennis-Farias/cursoIAeML/blob/main/KNN.ipynb\" target=\"_parent\"><img src=\"https://colab.research.google.com/assets/colab-badge.svg\" alt=\"Open In Colab\"/></a>"
      ]
    },
    {
      "cell_type": "code",
      "execution_count": 2,
      "metadata": {
        "id": "cumtFpsw8iNj"
      },
      "outputs": [],
      "source": [
        "from sklearn.neighbors import KNeighborsClassifier\n",
        "from sklearn.metrics import accuracy_score, precision_score, recall_score, f1_score, confusion_matrix\n",
        "import pandas as pd\n",
        "import numpy as np"
      ]
    },
    {
      "cell_type": "code",
      "source": [
        "mtcars = pd.read_csv('mt_cars.csv')\n",
        "mtcars.head()"
      ],
      "metadata": {
        "id": "ND5VOrgB80kE"
      },
      "execution_count": null,
      "outputs": []
    },
    {
      "cell_type": "code",
      "source": [
        "X = mtcars[['mpg','hp']].values\n",
        "y = mtcars['cyl'].values"
      ],
      "metadata": {
        "id": "795cdwD-9KEI"
      },
      "execution_count": 6,
      "outputs": []
    },
    {
      "cell_type": "code",
      "source": [
        "knn = KNeighborsClassifier(n_neighbors=3)\n",
        "modelo = knn.fit(X,y)"
      ],
      "metadata": {
        "id": "dy6vkbTR9Xvx"
      },
      "execution_count": 7,
      "outputs": []
    },
    {
      "cell_type": "code",
      "source": [
        "modelo"
      ],
      "metadata": {
        "id": "E7uo4BCU9qnb"
      },
      "execution_count": null,
      "outputs": []
    },
    {
      "cell_type": "code",
      "source": [
        "y_prev = modelo.predict(X)\n",
        "print(y_prev)"
      ],
      "metadata": {
        "id": "hIdE4Ec39uaX"
      },
      "execution_count": null,
      "outputs": []
    },
    {
      "cell_type": "code",
      "source": [
        "accuracy = accuracy_score(y,y_prev)\n",
        "precision = precision_score(y,y_prev,average='weighted')\n",
        "recall = recall_score(y,y_prev,average='weighted')\n",
        "f1 = f1_score(y,y_prev,average='weighted')\n",
        "cm = confusion_matrix(y,y_prev)\n",
        "print(f'Acurácia: {accuracy}')\n",
        "print(f'Precisão: {precision}')\n",
        "print(f'Recall: {recall}')\n",
        "print(f'F1: {f1}')\n",
        "print(f'Matriz de confusão: \\n{cm}')"
      ],
      "metadata": {
        "id": "QJ7V4Wfl94zr"
      },
      "execution_count": null,
      "outputs": []
    },
    {
      "cell_type": "code",
      "source": [
        "# 'mpg', 'hp'\n",
        "new_data = np.array([[19.3, 105]])\n",
        "\n",
        "previsao = modelo.predict(new_data)\n",
        "# cyl\n",
        "print(f'O número de cilindros é: {previsao}')\n",
        "\n",
        "distancies, indices = modelo.kneighbors(new_data)\n",
        "print(f'Distâncias: {distancies}')\n",
        "print(f'Indices: {indices}')"
      ],
      "metadata": {
        "id": "g_O3Jv3d-bSA"
      },
      "execution_count": null,
      "outputs": []
    },
    {
      "cell_type": "code",
      "source": [
        "mtcars.loc[[1,5,31], ['cyl', 'mpg', 'hp']]"
      ],
      "metadata": {
        "id": "JkGeWWKf_Pgi"
      },
      "execution_count": null,
      "outputs": []
    }
  ]
}