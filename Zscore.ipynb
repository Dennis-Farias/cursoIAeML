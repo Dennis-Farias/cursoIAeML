{
  "nbformat": 4,
  "nbformat_minor": 0,
  "metadata": {
    "colab": {
      "provenance": [],
      "authorship_tag": "ABX9TyPW8V2aq+HPyIAP5q1rQA4l",
      "include_colab_link": true
    },
    "kernelspec": {
      "name": "python3",
      "display_name": "Python 3"
    },
    "language_info": {
      "name": "python"
    }
  },
  "cells": [
    {
      "cell_type": "markdown",
      "metadata": {
        "id": "view-in-github",
        "colab_type": "text"
      },
      "source": [
        "<a href=\"https://colab.research.google.com/github/Dennis-Farias/cursoIAeML/blob/main/Zscore.ipynb\" target=\"_parent\"><img src=\"https://colab.research.google.com/assets/colab-badge.svg\" alt=\"Open In Colab\"/></a>"
      ]
    },
    {
      "cell_type": "code",
      "execution_count": 1,
      "metadata": {
        "id": "NXYWMqv62d95"
      },
      "outputs": [],
      "source": [
        "import numpy as np\n",
        "import scipy.stats as stats"
      ]
    },
    {
      "cell_type": "code",
      "source": [
        "data = np.array([30,29,30,31,100,29,28,30,300,31,32,33])"
      ],
      "metadata": {
        "id": "ohGBdr3S2kew"
      },
      "execution_count": 2,
      "outputs": []
    },
    {
      "cell_type": "code",
      "source": [
        "zscores = stats.zscore(data)\n",
        "zscores"
      ],
      "metadata": {
        "colab": {
          "base_uri": "https://localhost:8080/"
        },
        "id": "Ma9KBu072rum",
        "outputId": "b6546a9f-5927-43f4-a570-deda21247c0c"
      },
      "execution_count": 4,
      "outputs": [
        {
          "output_type": "execute_result",
          "data": {
            "text/plain": [
              "array([-0.37966016, -0.39294273, -0.37966016, -0.36637759,  0.55011982,\n",
              "       -0.39294273, -0.4062253 , -0.37966016,  3.20663406, -0.36637759,\n",
              "       -0.35309502, -0.33981245])"
            ]
          },
          "metadata": {},
          "execution_count": 4
        }
      ]
    },
    {
      "cell_type": "code",
      "source": [
        "anomalia = data[np.abs(zscores)>3]\n",
        "print(f'Anomalias Identificadas: {anomalia}')"
      ],
      "metadata": {
        "colab": {
          "base_uri": "https://localhost:8080/"
        },
        "id": "xItTfFeW20t8",
        "outputId": "35075eb2-651c-4474-9143-9d0d84028204"
      },
      "execution_count": 5,
      "outputs": [
        {
          "output_type": "stream",
          "name": "stdout",
          "text": [
            "Anomalias Identificadas: [300]\n"
          ]
        }
      ]
    }
  ]
}