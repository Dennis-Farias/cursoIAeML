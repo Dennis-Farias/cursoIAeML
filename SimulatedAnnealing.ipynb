{
  "nbformat": 4,
  "nbformat_minor": 0,
  "metadata": {
    "colab": {
      "provenance": [],
      "authorship_tag": "ABX9TyOpu0AcqQnzOtHx6+IITkGm",
      "include_colab_link": true
    },
    "kernelspec": {
      "name": "python3",
      "display_name": "Python 3"
    },
    "language_info": {
      "name": "python"
    }
  },
  "cells": [
    {
      "cell_type": "markdown",
      "metadata": {
        "id": "view-in-github",
        "colab_type": "text"
      },
      "source": [
        "<a href=\"https://colab.research.google.com/github/Dennis-Farias/cursoIAeML/blob/main/SimulatedAnnealing.ipynb\" target=\"_parent\"><img src=\"https://colab.research.google.com/assets/colab-badge.svg\" alt=\"Open In Colab\"/></a>"
      ]
    },
    {
      "cell_type": "code",
      "execution_count": 1,
      "metadata": {
        "id": "0fwvGpRURH08"
      },
      "outputs": [],
      "source": [
        "import numpy as np\n",
        "from scipy.optimize import basinhopping"
      ]
    },
    {
      "cell_type": "code",
      "source": [
        "def rosenbrock(x):\n",
        "  return (1-x[0])**2 + 100*(x[1]-x[0]**2)**2\n",
        "\n",
        "bounds = [(-2,2), (-2,2)]\n",
        "\n",
        "x0 = np.array([0,0])\n",
        "\n",
        "options = {'stepsize': 0.5, 'T': 1.0, 'niter': 100, 'disp': False}\n",
        "\n",
        "result = basinhopping(rosenbrock, x0, minimizer_kwargs={'bounds': bounds}, **options)\n",
        "\n",
        "print(result)"
      ],
      "metadata": {
        "colab": {
          "base_uri": "https://localhost:8080/"
        },
        "id": "M3E5IFkzRd3m",
        "outputId": "c91a049f-4822-4c26-e283-569d0c8b86bf"
      },
      "execution_count": 2,
      "outputs": [
        {
          "output_type": "stream",
          "name": "stdout",
          "text": [
            "                    message: ['requested number of basinhopping iterations completed successfully']\n",
            "                    success: True\n",
            "                        fun: 1.658532047778573e-13\n",
            "                          x: [ 1.000e+00  1.000e+00]\n",
            "                        nit: 100\n",
            "      minimization_failures: 0\n",
            "                       nfev: 6504\n",
            "                       njev: 2168\n",
            " lowest_optimization_result:  message: CONVERGENCE: NORM_OF_PROJECTED_GRADIENT_<=_PGTOL\n",
            "                              success: True\n",
            "                               status: 0\n",
            "                                  fun: 1.658532047778573e-13\n",
            "                                    x: [ 1.000e+00  1.000e+00]\n",
            "                                  nit: 18\n",
            "                                  jac: [-8.705e-06  7.597e-06]\n",
            "                                 nfev: 84\n",
            "                                 njev: 28\n",
            "                             hess_inv: <2x2 LbfgsInvHessProduct with dtype=float64>\n"
          ]
        }
      ]
    }
  ]
}