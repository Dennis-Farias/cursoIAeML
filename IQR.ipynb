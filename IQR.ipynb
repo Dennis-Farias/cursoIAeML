{
  "nbformat": 4,
  "nbformat_minor": 0,
  "metadata": {
    "colab": {
      "provenance": [],
      "authorship_tag": "ABX9TyP7JoSEoyqHr+UWphBAHINT",
      "include_colab_link": true
    },
    "kernelspec": {
      "name": "python3",
      "display_name": "Python 3"
    },
    "language_info": {
      "name": "python"
    }
  },
  "cells": [
    {
      "cell_type": "markdown",
      "metadata": {
        "id": "view-in-github",
        "colab_type": "text"
      },
      "source": [
        "<a href=\"https://colab.research.google.com/github/Dennis-Farias/cursoIAeML/blob/main/IQR.ipynb\" target=\"_parent\"><img src=\"https://colab.research.google.com/assets/colab-badge.svg\" alt=\"Open In Colab\"/></a>"
      ]
    },
    {
      "cell_type": "code",
      "execution_count": 1,
      "metadata": {
        "id": "FXz3DuN-3TYG"
      },
      "outputs": [],
      "source": [
        "import numpy as np"
      ]
    },
    {
      "cell_type": "code",
      "source": [
        "dataset = [-100,1,2,3,4,5,6,7,8,9,100]"
      ],
      "metadata": {
        "id": "1By4Cdx-3gDu"
      },
      "execution_count": 10,
      "outputs": []
    },
    {
      "cell_type": "code",
      "source": [
        "quartil1 = np.percentile(dataset,25)\n",
        "quartil3 = np.percentile(dataset,75)\n",
        "iqr = quartil3 - quartil1\n",
        "limiteinferior = quartil1 - 1.5*iqr\n",
        "limitesuperior = quartil3 + 1.5*iqr\n",
        "\n",
        "outliers = []\n",
        "for value in dataset:\n",
        "    if value < limiteinferior or value > limitesuperior:\n",
        "        outliers.append(value)\n",
        "print('Anomalias:', outliers)"
      ],
      "metadata": {
        "colab": {
          "base_uri": "https://localhost:8080/"
        },
        "id": "CqIEg3VJ3jWm",
        "outputId": "098e1b33-cfc7-4a49-d635-2a13acb580ae"
      },
      "execution_count": 9,
      "outputs": [
        {
          "output_type": "stream",
          "name": "stdout",
          "text": [
            "Anomalias: [-100, 100]\n"
          ]
        }
      ]
    }
  ]
}