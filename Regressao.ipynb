{
  "nbformat": 4,
  "nbformat_minor": 0,
  "metadata": {
    "colab": {
      "provenance": [],
      "authorship_tag": "ABX9TyP/Wb+I/kgblsz/0alcld0A",
      "include_colab_link": true
    },
    "kernelspec": {
      "name": "python3",
      "display_name": "Python 3"
    },
    "language_info": {
      "name": "python"
    }
  },
  "cells": [
    {
      "cell_type": "markdown",
      "metadata": {
        "id": "view-in-github",
        "colab_type": "text"
      },
      "source": [
        "<a href=\"https://colab.research.google.com/github/Dennis-Farias/cursoIAeML/blob/main/Regressao.ipynb\" target=\"_parent\"><img src=\"https://colab.research.google.com/assets/colab-badge.svg\" alt=\"Open In Colab\"/></a>"
      ]
    },
    {
      "cell_type": "code",
      "execution_count": 6,
      "metadata": {
        "id": "Oikv28F49a2D"
      },
      "outputs": [],
      "source": [
        "import pandas as pd\n",
        "import numpy as np\n",
        "import matplotlib.pyplot as plt\n",
        "import statsmodels.formula.api as sm\n",
        "import scipy.stats as stats\n",
        "import seaborn as sns"
      ]
    },
    {
      "cell_type": "code",
      "source": [
        "base = pd.read_csv('mt_cars.csv')\n",
        "base.shape"
      ],
      "metadata": {
        "id": "8lzlfWi29tj7"
      },
      "execution_count": null,
      "outputs": []
    },
    {
      "cell_type": "code",
      "source": [
        "base.head()"
      ],
      "metadata": {
        "id": "VZBg4ri49ylZ"
      },
      "execution_count": null,
      "outputs": []
    },
    {
      "cell_type": "code",
      "source": [
        "base = base.drop(['Unnamed: 0'], axis=1)"
      ],
      "metadata": {
        "id": "tiNOBm5D944r"
      },
      "execution_count": 9,
      "outputs": []
    },
    {
      "cell_type": "code",
      "source": [
        "corr = base.corr()\n",
        "sns.heatmap(corr, cmap='coolwarm', annot=True, fmt='.2f')"
      ],
      "metadata": {
        "id": "6iAioBC8-DcS"
      },
      "execution_count": null,
      "outputs": []
    },
    {
      "cell_type": "code",
      "source": [
        "column_pairs = [('mpg', 'cyl'), ('mpg', 'disp'), ('mpg', 'hp'), ('mpg', 'wt'), ('mpg', 'drat'), ('mpg', 'vs')]\n",
        "n_plots = len(column_pairs)\n",
        "fig, axes = plt.subplots(nrows = n_plots, ncols=1, figsize=(6,4 * n_plots))\n",
        "\n",
        "for i, pair in enumerate(column_pairs):\n",
        "    x_col, y_col = pair\n",
        "    sns.scatterplot(x = x_col, y = y_col, data=base, ax=axes[i])\n",
        "    axes[i].set_title(f'{x_col} vs {y_col}')\n",
        "\n",
        "plt.tight_layout()\n",
        "plt.show()"
      ],
      "metadata": {
        "id": "ssHFuvGw-WqQ"
      },
      "execution_count": null,
      "outputs": []
    },
    {
      "cell_type": "code",
      "source": [
        "modelo = sm.ols(formula='mpg ~ cyl + wt + disp', data=base)\n",
        "modelo = modelo.fit()\n",
        "modelo.summary()"
      ],
      "metadata": {
        "id": "3KdRH0A5qRF8"
      },
      "execution_count": null,
      "outputs": []
    },
    {
      "cell_type": "code",
      "source": [
        "residuos = modelo.resid\n",
        "plt.hist(residuos, bins=20)\n",
        "plt.xlabel('Resíduos')\n",
        "plt.ylabel('Frequência')\n",
        "plt.title('Histograma dos Resíduos')\n",
        "plt.show()"
      ],
      "metadata": {
        "id": "MvoIZOMUu4da"
      },
      "execution_count": null,
      "outputs": []
    },
    {
      "cell_type": "code",
      "source": [
        "stats.probplot(residuos, dist=\"norm\", plot=plt)\n",
        "plt.title('Q-Q Plot dos Resíduos')\n",
        "plt.show()"
      ],
      "metadata": {
        "id": "K1tgtz5bu_Pl"
      },
      "execution_count": null,
      "outputs": []
    },
    {
      "cell_type": "code",
      "source": [
        "# h0 - dados estão normalmente distribuídos\n",
        "# p <= 0.05 rejeitar a hipótese nula (não estão normalmente distribuídos)\n",
        "# p > 0.05 não é possível rejeitar h0\n",
        "stat, pval = stats.shapiro(residuos)\n",
        "print(f'Shapiro-Wilk estatística: {stat:.3f}, p-value: {pval:.3f}')"
      ],
      "metadata": {
        "id": "1a7sYOnwuRGR"
      },
      "execution_count": null,
      "outputs": []
    }
  ]
}