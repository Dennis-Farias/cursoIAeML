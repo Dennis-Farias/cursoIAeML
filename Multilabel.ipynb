{
  "nbformat": 4,
  "nbformat_minor": 0,
  "metadata": {
    "colab": {
      "provenance": [],
      "authorship_tag": "ABX9TyOX6YSs4qEVM28oYN3W39DA",
      "include_colab_link": true
    },
    "kernelspec": {
      "name": "python3",
      "display_name": "Python 3"
    },
    "language_info": {
      "name": "python"
    }
  },
  "cells": [
    {
      "cell_type": "markdown",
      "metadata": {
        "id": "view-in-github",
        "colab_type": "text"
      },
      "source": [
        "<a href=\"https://colab.research.google.com/github/Dennis-Farias/cursoIAeML/blob/main/Multilabel.ipynb\" target=\"_parent\"><img src=\"https://colab.research.google.com/assets/colab-badge.svg\" alt=\"Open In Colab\"/></a>"
      ]
    },
    {
      "cell_type": "code",
      "execution_count": 1,
      "metadata": {
        "id": "J375F2IidU3h"
      },
      "outputs": [],
      "source": [
        "!pip install scikit-multilearn"
      ]
    },
    {
      "cell_type": "code",
      "source": [
        "from skmultilearn.problem_transform import BinaryRelevance, ClassifierChain, LabelPowerset\n",
        "from sklearn.svm import SVC\n",
        "\n",
        "from sklearn.model_selection import train_test_split\n",
        "from sklearn.metrics import hamming_loss\n",
        "import pandas as pd"
      ],
      "metadata": {
        "id": "pSEgmFWOdlWb"
      },
      "execution_count": 1,
      "outputs": []
    },
    {
      "cell_type": "code",
      "source": [
        "musica = pd.read_csv('Musica.csv')\n",
        "musica.shape"
      ],
      "metadata": {
        "id": "QS-3UVeleXOg"
      },
      "execution_count": null,
      "outputs": []
    },
    {
      "cell_type": "code",
      "source": [
        "musica.head()"
      ],
      "metadata": {
        "id": "JPZgWKuCeuM6"
      },
      "execution_count": null,
      "outputs": []
    },
    {
      "cell_type": "code",
      "source": [
        "classe = musica.iloc[:, 0:6].values\n",
        "previsores = musica.iloc[:, 7:78].values"
      ],
      "metadata": {
        "id": "DvzB-MAme3Me"
      },
      "execution_count": 4,
      "outputs": []
    },
    {
      "cell_type": "code",
      "source": [
        "X_treinamento, X_teste, y_treinamento, y_teste = train_test_split(previsores, classe, test_size = 0.3, random_state = 0)"
      ],
      "metadata": {
        "id": "GrAEyMLKfIsz"
      },
      "execution_count": 5,
      "outputs": []
    },
    {
      "cell_type": "code",
      "source": [
        "binary = BinaryRelevance(classifier = SVC())\n",
        "binary.fit(X_treinamento, y_treinamento)\n",
        "previsao = binary.predict(X_teste)\n",
        "print(hamming_loss(y_teste, previsao))"
      ],
      "metadata": {
        "colab": {
          "base_uri": "https://localhost:8080/"
        },
        "id": "6J_n-F9Egztv",
        "outputId": "7d7e33a5-00e0-480e-9c6d-ae0d973cb09c"
      },
      "execution_count": 12,
      "outputs": [
        {
          "output_type": "stream",
          "name": "stdout",
          "text": [
            "0.18071161048689138\n"
          ]
        }
      ]
    },
    {
      "cell_type": "code",
      "source": [
        "chain = ClassifierChain(classifier = SVC())\n",
        "chain.fit(X_treinamento, y_treinamento)\n",
        "previsao = chain.predict(X_teste)\n",
        "print(hamming_loss(y_teste, previsao))"
      ],
      "metadata": {
        "colab": {
          "base_uri": "https://localhost:8080/"
        },
        "id": "9niu06nmhdN4",
        "outputId": "e5d4922c-fcbc-4392-9481-a7233a6de939"
      },
      "execution_count": 13,
      "outputs": [
        {
          "output_type": "stream",
          "name": "stdout",
          "text": [
            "0.20318352059925093\n"
          ]
        }
      ]
    },
    {
      "cell_type": "code",
      "source": [
        "label = LabelPowerset(classifier = SVC())\n",
        "label.fit(X_treinamento, y_treinamento)\n",
        "previsao = label.predict(X_teste)\n",
        "print(hamming_loss(y_teste, previsao))"
      ],
      "metadata": {
        "colab": {
          "base_uri": "https://localhost:8080/"
        },
        "id": "LXbGb2sVhjI6",
        "outputId": "1190f1d5-7e5a-498a-8a04-5d626f0b6f64"
      },
      "execution_count": 14,
      "outputs": [
        {
          "output_type": "stream",
          "name": "stdout",
          "text": [
            "0.2209737827715356\n"
          ]
        }
      ]
    }
  ]
}