{
  "nbformat": 4,
  "nbformat_minor": 0,
  "metadata": {
    "colab": {
      "provenance": [],
      "authorship_tag": "ABX9TyOrtGeRyWws/1w/LmW06RIV",
      "include_colab_link": true
    },
    "kernelspec": {
      "name": "python3",
      "display_name": "Python 3"
    },
    "language_info": {
      "name": "python"
    }
  },
  "cells": [
    {
      "cell_type": "markdown",
      "metadata": {
        "id": "view-in-github",
        "colab_type": "text"
      },
      "source": [
        "<a href=\"https://colab.research.google.com/github/Dennis-Farias/cursoIAeML/blob/main/KMeans.ipynb\" target=\"_parent\"><img src=\"https://colab.research.google.com/assets/colab-badge.svg\" alt=\"Open In Colab\"/></a>"
      ]
    },
    {
      "cell_type": "code",
      "execution_count": 3,
      "metadata": {
        "id": "xQ7QnJ-9qeg8"
      },
      "outputs": [],
      "source": [
        "from sklearn import datasets\n",
        "from sklearn.metrics import confusion_matrix\n",
        "from sklearn.cluster import KMeans, AgglomerativeClustering, DBSCAN\n",
        "import matplotlib.pyplot as plt\n",
        "from scipy.cluster.hierarchy import linkage, dendrogram"
      ]
    },
    {
      "cell_type": "code",
      "source": [
        "iris = datasets.load_iris()\n",
        "iris"
      ],
      "metadata": {
        "id": "OuV7NswHrDf7"
      },
      "execution_count": null,
      "outputs": []
    },
    {
      "cell_type": "code",
      "source": [
        "def plot_clusters(data, labels, title):\n",
        "  colors = ['red', 'green', 'purple', 'black']\n",
        "  plt.figure(figsize=(8,4))\n",
        "  for i, c, l in zip(range(-1,3), colors, ['Noise','Setosa', 'Versicolor', 'Virginica']):\n",
        "    if i == -1:\n",
        "      plt.scatter(data[labels==i, 0], data[labels==i, 3], c=colors[i], label=l, alpha=0.5, s=50, marker='x')\n",
        "    else:\n",
        "      plt.scatter(data[labels==i, 0], data[labels==i, 3], c=colors[i], label=l, alpha=0.5, s=50)\n",
        "  plt.legend()\n",
        "  plt.title(title)\n",
        "  plt.xlabel('Comprimento da Sépala')\n",
        "  plt.ylabel('Largura da Pétala')\n",
        "  plt.show()"
      ],
      "metadata": {
        "id": "wcmO5ygW-1Nu"
      },
      "execution_count": 1,
      "outputs": []
    },
    {
      "cell_type": "code",
      "source": [
        "iris.target"
      ],
      "metadata": {
        "id": "v7PbKCERr4eu"
      },
      "execution_count": null,
      "outputs": []
    },
    {
      "cell_type": "code",
      "source": [
        "kmeans = KMeans(n_clusters=3, n_init='auto')\n",
        "kmeans.fit(iris.data)\n",
        "print(kmeans.labels_)"
      ],
      "metadata": {
        "id": "PImqt8SUrRLp"
      },
      "execution_count": null,
      "outputs": []
    },
    {
      "cell_type": "code",
      "source": [
        "resultados = confusion_matrix(iris.target, kmeans.labels_)\n",
        "print(resultados)"
      ],
      "metadata": {
        "id": "wj0ugEKhsMYj"
      },
      "execution_count": null,
      "outputs": []
    },
    {
      "cell_type": "code",
      "source": [
        "plot_clusters(iris.data, kmeans.labels_, 'Cluster KMeans')"
      ],
      "metadata": {
        "id": "yeQJfP8iZtDf"
      },
      "execution_count": null,
      "outputs": []
    },
    {
      "cell_type": "code",
      "source": [
        "dbscan = DBSCAN(eps=0.5, min_samples=3)\n",
        "dbscan_labels = dbscan.fit_predict(iris.data)\n",
        "print(dbscan_labels)"
      ],
      "metadata": {
        "collapsed": true,
        "id": "ASb01LjVsc3w"
      },
      "execution_count": null,
      "outputs": []
    },
    {
      "cell_type": "code",
      "source": [
        "plot_clusters(iris.data, dbscan_labels, 'Cluster DBSCAN')"
      ],
      "metadata": {
        "id": "PcUM2ZMMaJ_V"
      },
      "execution_count": null,
      "outputs": []
    },
    {
      "cell_type": "code",
      "source": [
        "agglo = AgglomerativeClustering(n_clusters=3)\n",
        "agglo_labels = agglo.fit_predict(iris.data)\n",
        "print(agglo_labels)"
      ],
      "metadata": {
        "collapsed": true,
        "id": "S5iA1YdFtheK"
      },
      "execution_count": null,
      "outputs": []
    },
    {
      "cell_type": "code",
      "source": [
        "resultados = confusion_matrix(iris.target, agglo_labels)\n",
        "print(resultados)"
      ],
      "metadata": {
        "id": "nH2DHw4ftx6h"
      },
      "execution_count": null,
      "outputs": []
    },
    {
      "cell_type": "code",
      "source": [
        "plot_clusters(iris.data, agglo_labels, 'Cluster Hierárquico')"
      ],
      "metadata": {
        "id": "ovrp-_BkaeTt"
      },
      "execution_count": null,
      "outputs": []
    },
    {
      "cell_type": "code",
      "source": [
        "plt.figure(figsize=(12,6))\n",
        "plt.title(\"Cluster Hierárquico: Dendograma\")\n",
        "plt.xlabel(\"Índice\")\n",
        "plt.ylabel(\"Distância\")\n",
        "linkage_matrix = linkage(iris.data, method='ward')\n",
        "dendrogram(linkage_matrix, truncate_mode='lastp', p=15)\n",
        "plt.axhline(y=7, color='gray', lw=1, linestyle='dashed')\n",
        "plt.show()"
      ],
      "metadata": {
        "id": "sfUtP7jmarbU"
      },
      "execution_count": null,
      "outputs": []
    }
  ]
}