{
  "nbformat": 4,
  "nbformat_minor": 0,
  "metadata": {
    "colab": {
      "provenance": [],
      "authorship_tag": "ABX9TyMQbmABCsP0PbAp7K9SHCFO",
      "include_colab_link": true
    },
    "kernelspec": {
      "name": "python3",
      "display_name": "Python 3"
    },
    "language_info": {
      "name": "python"
    }
  },
  "cells": [
    {
      "cell_type": "markdown",
      "metadata": {
        "id": "view-in-github",
        "colab_type": "text"
      },
      "source": [
        "<a href=\"https://colab.research.google.com/github/Dennis-Farias/cursoIAeML/blob/main/Fillmask.ipynb\" target=\"_parent\"><img src=\"https://colab.research.google.com/assets/colab-badge.svg\" alt=\"Open In Colab\"/></a>"
      ]
    },
    {
      "cell_type": "code",
      "execution_count": 1,
      "metadata": {
        "id": "jsqoKvpXGadw"
      },
      "outputs": [],
      "source": [
        "import transformers\n",
        "from transformers import pipeline"
      ]
    },
    {
      "cell_type": "code",
      "source": [
        "mascarar = pipeline(\"fill-mask\", model='neuralmind/bert-base-portuguese-cased')\n",
        "texto = mascarar('Existe uma chance do corpo cair no [MASK]')\n",
        "for x in range(len(texto)):\n",
        "    print(texto[x])"
      ],
      "metadata": {
        "colab": {
          "base_uri": "https://localhost:8080/"
        },
        "id": "zicttmIAGo5P",
        "outputId": "6cc8f094-55a1-4975-d658-de1340d18ca4"
      },
      "execution_count": 3,
      "outputs": [
        {
          "output_type": "stream",
          "name": "stderr",
          "text": [
            "Some weights of the model checkpoint at neuralmind/bert-base-portuguese-cased were not used when initializing BertForMaskedLM: ['bert.pooler.dense.bias', 'bert.pooler.dense.weight', 'cls.seq_relationship.bias', 'cls.seq_relationship.weight']\n",
            "- This IS expected if you are initializing BertForMaskedLM from the checkpoint of a model trained on another task or with another architecture (e.g. initializing a BertForSequenceClassification model from a BertForPreTraining model).\n",
            "- This IS NOT expected if you are initializing BertForMaskedLM from the checkpoint of a model that you expect to be exactly identical (initializing a BertForSequenceClassification model from a BertForSequenceClassification model).\n"
          ]
        },
        {
          "output_type": "stream",
          "name": "stdout",
          "text": [
            "{'score': 0.37377509474754333, 'token': 8105, 'token_str': 'chão', 'sequence': 'Existe uma chance do corpo cair no chão'}\n",
            "{'score': 0.14707374572753906, 'token': 528, 'token_str': 'mar', 'sequence': 'Existe uma chance do corpo cair no mar'}\n",
            "{'score': 0.048200927674770355, 'token': 2187, 'token_str': 'rio', 'sequence': 'Existe uma chance do corpo cair no rio'}\n",
            "{'score': 0.03422795236110687, 'token': 8096, 'token_str': 'gelo', 'sequence': 'Existe uma chance do corpo cair no gelo'}\n",
            "{'score': 0.021673360839486122, 'token': 15213, 'token_str': 'buraco', 'sequence': 'Existe uma chance do corpo cair no buraco'}\n"
          ]
        }
      ]
    },
    {
      "cell_type": "code",
      "source": [
        "texto = mascarar(['Existe uma chance do corpo cair no [MASK]', 'Brasília é a capital do [MASK]'])\n",
        "for x in range(len(texto)):\n",
        "    print(texto[x])"
      ],
      "metadata": {
        "colab": {
          "base_uri": "https://localhost:8080/"
        },
        "id": "wzzR6ZICHbul",
        "outputId": "0c709a7a-516d-4c63-b525-492581d9fafd"
      },
      "execution_count": 4,
      "outputs": [
        {
          "output_type": "stream",
          "name": "stdout",
          "text": [
            "[{'score': 0.37377509474754333, 'token': 8105, 'token_str': 'chão', 'sequence': 'Existe uma chance do corpo cair no chão'}, {'score': 0.14707374572753906, 'token': 528, 'token_str': 'mar', 'sequence': 'Existe uma chance do corpo cair no mar'}, {'score': 0.048200927674770355, 'token': 2187, 'token_str': 'rio', 'sequence': 'Existe uma chance do corpo cair no rio'}, {'score': 0.03422795236110687, 'token': 8096, 'token_str': 'gelo', 'sequence': 'Existe uma chance do corpo cair no gelo'}, {'score': 0.021673360839486122, 'token': 15213, 'token_str': 'buraco', 'sequence': 'Existe uma chance do corpo cair no buraco'}]\n",
            "[{'score': 0.5167429447174072, 'token': 771, 'token_str': 'Brasil', 'sequence': 'Brasília é a capital do Brasil'}, {'score': 0.19815459847450256, 'token': 806, 'token_str': 'país', 'sequence': 'Brasília é a capital do país'}, {'score': 0.0376470722258091, 'token': 4953, 'token_str': 'País', 'sequence': 'Brasília é a capital do País'}, {'score': 0.024318601936101913, 'token': 1147, 'token_str': 'mundo', 'sequence': 'Brasília é a capital do mundo'}, {'score': 0.015301565639674664, 'token': 2200, 'token_str': 'futebol', 'sequence': 'Brasília é a capital do futebol'}]\n"
          ]
        }
      ]
    }
  ]
}