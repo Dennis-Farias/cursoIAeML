{
  "nbformat": 4,
  "nbformat_minor": 0,
  "metadata": {
    "colab": {
      "provenance": [],
      "authorship_tag": "ABX9TyM5i6zcV6jsQOUN0vtDwDAz",
      "include_colab_link": true
    },
    "kernelspec": {
      "name": "python3",
      "display_name": "Python 3"
    },
    "language_info": {
      "name": "python"
    }
  },
  "cells": [
    {
      "cell_type": "markdown",
      "metadata": {
        "id": "view-in-github",
        "colab_type": "text"
      },
      "source": [
        "<a href=\"https://colab.research.google.com/github/Dennis-Farias/cursoIAeML/blob/main/DecisionTree.ipynb\" target=\"_parent\"><img src=\"https://colab.research.google.com/assets/colab-badge.svg\" alt=\"Open In Colab\"/></a>"
      ]
    },
    {
      "cell_type": "code",
      "execution_count": 1,
      "metadata": {
        "id": "_Uuxk4UcS7Y7"
      },
      "outputs": [],
      "source": [
        "import pandas as pd\n",
        "from sklearn.model_selection import train_test_split\n",
        "from sklearn.tree import DecisionTreeClassifier\n",
        "from sklearn.preprocessing import LabelEncoder\n",
        "from sklearn.metrics import accuracy_score, precision_score, recall_score, f1_score, classification_report\n",
        "from sklearn.tree import export_graphviz\n",
        "import graphviz"
      ]
    },
    {
      "cell_type": "code",
      "source": [
        "base = pd.read_csv('insurance.csv')\n",
        "base = base.drop(columns=['Unnamed: 0'])\n",
        "base = base.dropna()\n",
        "base.head()"
      ],
      "metadata": {
        "id": "UTwVz7imTwJ2"
      },
      "execution_count": null,
      "outputs": []
    },
    {
      "cell_type": "code",
      "source": [
        "y = base.iloc[:, 7].values\n",
        "X = base.iloc[:, [0,1,2,3,4,5,6,8,9,10,11,12,13,14,15,16,17,18,19,20,21,22,23,24,25,26]].values"
      ],
      "metadata": {
        "id": "Qk5FdBJjGqX7"
      },
      "execution_count": 10,
      "outputs": []
    },
    {
      "cell_type": "code",
      "source": [
        "labelencoder = LabelEncoder()"
      ],
      "metadata": {
        "id": "1L2RDIVAUvZG"
      },
      "execution_count": 11,
      "outputs": []
    },
    {
      "cell_type": "code",
      "source": [
        "for i in range(X.shape[1]):\n",
        "  if X[:, i].dtype == 'object':\n",
        "    X[:, i] = labelencoder.fit_transform(X[:, i])"
      ],
      "metadata": {
        "id": "huxdK4XhU0se"
      },
      "execution_count": 12,
      "outputs": []
    },
    {
      "cell_type": "code",
      "source": [
        "# x independentes\n",
        "# y a variável dependente\n",
        "X_treinamento, X_teste, y_treinamento, y_teste = train_test_split(X,y,test_size=0.3,random_state=1)"
      ],
      "metadata": {
        "id": "1UIMQ2DxpFQU"
      },
      "execution_count": 13,
      "outputs": []
    },
    {
      "cell_type": "code",
      "source": [
        "# 1º modelo = 0.81 de acurácia\n",
        "#modelo = DecisionTreeClassifier(random_state=1)\n",
        "# 2º modelo = 0.85 de acurácia\n",
        "#modelo = DecisionTreeClassifier(random_state=1, max_depth=8)\n",
        "# 3º modelo = 0.86 de acurácia\n",
        "modelo = DecisionTreeClassifier(random_state=1, max_depth=8, max_leaf_nodes=8)\n",
        "modelo.fit(X_treinamento, y_treinamento)"
      ],
      "metadata": {
        "id": "5qaArth-U_Qq"
      },
      "execution_count": null,
      "outputs": []
    },
    {
      "cell_type": "code",
      "source": [
        "dot_data = export_graphviz(modelo, out_file=None, filled=True, feature_names=base.columns[:-1], class_names=True, rounded=True)\n",
        "graph = graphviz.Source(dot_data)\n",
        "graph.render('decision_tree', format='png')\n",
        "graph.view()"
      ],
      "metadata": {
        "id": "0hhPfFiNVot0"
      },
      "execution_count": null,
      "outputs": []
    },
    {
      "cell_type": "code",
      "source": [
        "previsoes = modelo.predict(X_teste)"
      ],
      "metadata": {
        "id": "8tBnksbwVGLv"
      },
      "execution_count": 40,
      "outputs": []
    },
    {
      "cell_type": "code",
      "source": [
        "accuracy = accuracy_score(y_teste, previsoes)\n",
        "precision = precision_score(y_teste, previsoes, average='weighted')\n",
        "recall = recall_score(y_teste, previsoes, average='weighted')\n",
        "f1 = f1_score(y_teste, previsoes, average='weighted')\n",
        "print(f'Acurácia: {accuracy:.2f}')\n",
        "print(f'Precisão: {precision:.2f}')\n",
        "print(f'Recall: {recall:.2f}')\n",
        "print(f'F1-score: {f1:.2f}')"
      ],
      "metadata": {
        "id": "zR55T3F6VLSA"
      },
      "execution_count": null,
      "outputs": []
    },
    {
      "cell_type": "code",
      "source": [
        "report = classification_report(y_teste, previsoes)\n",
        "print(report)"
      ],
      "metadata": {
        "id": "uLsDRtxnVcUw"
      },
      "execution_count": null,
      "outputs": []
    }
  ]
}