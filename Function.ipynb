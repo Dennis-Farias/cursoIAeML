{
  "nbformat": 4,
  "nbformat_minor": 0,
  "metadata": {
    "colab": {
      "provenance": [],
      "authorship_tag": "ABX9TyOUZkI7YHrw7XDHye3MvEha",
      "include_colab_link": true
    },
    "kernelspec": {
      "name": "python3",
      "display_name": "Python 3"
    },
    "language_info": {
      "name": "python"
    }
  },
  "cells": [
    {
      "cell_type": "markdown",
      "metadata": {
        "id": "view-in-github",
        "colab_type": "text"
      },
      "source": [
        "<a href=\"https://colab.research.google.com/github/Dennis-Farias/cursoIAeML/blob/main/Function.ipynb\" target=\"_parent\"><img src=\"https://colab.research.google.com/assets/colab-badge.svg\" alt=\"Open In Colab\"/></a>"
      ]
    },
    {
      "cell_type": "code",
      "execution_count": 4,
      "metadata": {
        "id": "jHu-x2O2IV5x"
      },
      "outputs": [],
      "source": [
        "# 2 * x + 5 = 20\n",
        "import numpy as np\n",
        "def equation_func(solution):\n",
        "  x = solution[0]\n",
        "  equation_output = 2 * x + 5\n",
        "  target_output = 20\n",
        "  fitness = 1.0 / np.abs(equation_output - target_output + 1e-8)\n",
        "  return fitness"
      ]
    },
    {
      "cell_type": "code",
      "source": [
        "lista = [-10,-5,0,5,7.5,10,15]\n",
        "for value in lista:\n",
        "  result = equation_func([value])\n",
        "  print(result)"
      ],
      "metadata": {
        "colab": {
          "base_uri": "https://localhost:8080/"
        },
        "id": "6jBXXOGcKLCP",
        "outputId": "1dcd071b-b929-41a5-e77e-e469db3c7a6b"
      },
      "execution_count": 6,
      "outputs": [
        {
          "output_type": "stream",
          "name": "stdout",
          "text": [
            "0.028571428579591836\n",
            "0.040000000016\n",
            "0.06666666671111111\n",
            "0.2000000004\n",
            "100000000.0\n",
            "0.1999999996\n",
            "0.06666666662222222\n"
          ]
        }
      ]
    }
  ]
}