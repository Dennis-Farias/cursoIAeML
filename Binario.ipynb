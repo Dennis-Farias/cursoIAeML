{
  "nbformat": 4,
  "nbformat_minor": 0,
  "metadata": {
    "colab": {
      "provenance": [],
      "authorship_tag": "ABX9TyNxlZsv/6DjS2JEm1aE3+8A",
      "include_colab_link": true
    },
    "kernelspec": {
      "name": "python3",
      "display_name": "Python 3"
    },
    "language_info": {
      "name": "python"
    }
  },
  "cells": [
    {
      "cell_type": "markdown",
      "metadata": {
        "id": "view-in-github",
        "colab_type": "text"
      },
      "source": [
        "<a href=\"https://colab.research.google.com/github/Dennis-Farias/cursoIAeML/blob/main/Binario.ipynb\" target=\"_parent\"><img src=\"https://colab.research.google.com/assets/colab-badge.svg\" alt=\"Open In Colab\"/></a>"
      ]
    },
    {
      "cell_type": "code",
      "source": [
        "!pip install pygad"
      ],
      "metadata": {
        "id": "l2Csiquy0xMa"
      },
      "execution_count": null,
      "outputs": []
    },
    {
      "cell_type": "code",
      "execution_count": 3,
      "metadata": {
        "id": "JY28w-Hr0m3H"
      },
      "outputs": [],
      "source": [
        "import pygad\n",
        "import numpy as np"
      ]
    },
    {
      "cell_type": "code",
      "source": [
        "itens = [\n",
        "    ('canivete',10,1),\n",
        "    ('feijão',20,5),\n",
        "    ('batatas',15,10),\n",
        "    ('lanterna',2,1),\n",
        "    ('saco de dormir',30,7),\n",
        "    ('corda',10,5),\n",
        "    ('bussola',30,1)\n",
        "]\n",
        "limite_peso = 15\n",
        "\n",
        "def fitness_func(ga_instance, solution, solution_idx):\n",
        "  pontos = 0\n",
        "  peso = 0\n",
        "  for i in range(len(solution)):\n",
        "    if solution[i] == 1:\n",
        "      pontos += itens[i][1]\n",
        "      peso += itens[i][2]\n",
        "  if peso > limite_peso:\n",
        "    return -1\n",
        "  return pontos\n",
        "\n",
        "\n",
        "ga_instance = pygad.GA(\n",
        "    num_generations=200,\n",
        "    num_parents_mating=5,\n",
        "    fitness_func=fitness_func,\n",
        "    sol_per_pop=50,\n",
        "    num_genes=len(itens),\n",
        "    gene_type=int,\n",
        "    init_range_low=0,\n",
        "    init_range_high=2 # na prática 1\n",
        ")\n",
        "\n",
        "ga_instance.run()\n",
        "solution, solution_fitness, _ = ga_instance.best_solution()\n",
        "print('Melhor solução: ', solution)\n",
        "print('Pontos: ', solution_fitness)"
      ],
      "metadata": {
        "colab": {
          "base_uri": "https://localhost:8080/"
        },
        "id": "XqDFBb2X0zbe",
        "outputId": "61f8df88-250b-4350-8db0-c2fdac1a44d9"
      },
      "execution_count": 35,
      "outputs": [
        {
          "output_type": "stream",
          "name": "stdout",
          "text": [
            "Melhor solução:  [1 1 0 1 1 0 1]\n",
            "Pontos:  92\n"
          ]
        }
      ]
    }
  ]
}