{
  "nbformat": 4,
  "nbformat_minor": 0,
  "metadata": {
    "colab": {
      "provenance": [],
      "authorship_tag": "ABX9TyNNAdkXMwwy/Q68wTuK5RlY",
      "include_colab_link": true
    },
    "kernelspec": {
      "name": "python3",
      "display_name": "Python 3"
    },
    "language_info": {
      "name": "python"
    }
  },
  "cells": [
    {
      "cell_type": "markdown",
      "metadata": {
        "id": "view-in-github",
        "colab_type": "text"
      },
      "source": [
        "<a href=\"https://colab.research.google.com/github/Dennis-Farias/cursoIAeML/blob/main/LSTM_anomalias.ipynb\" target=\"_parent\"><img src=\"https://colab.research.google.com/assets/colab-badge.svg\" alt=\"Open In Colab\"/></a>"
      ]
    },
    {
      "cell_type": "code",
      "execution_count": 1,
      "metadata": {
        "id": "RWygKi6jBWBw"
      },
      "outputs": [],
      "source": [
        "import numpy as np\n",
        "import matplotlib.pyplot as plt\n",
        "import pandas as pd\n",
        "from keras.models import Sequential\n",
        "from keras.layers import Dense, Dropout, LSTM\n",
        "from sklearn.preprocessing import MinMaxScaler\n",
        "from sklearn.metrics import mean_squared_error"
      ]
    },
    {
      "cell_type": "code",
      "source": [
        "dataset_train = pd.read_csv('Salestrain.csv')"
      ],
      "metadata": {
        "id": "S2M2xxueCL31"
      },
      "execution_count": 2,
      "outputs": []
    },
    {
      "cell_type": "code",
      "source": [
        "dataset_train.shape"
      ],
      "metadata": {
        "id": "0Lxt6WjHCcJX"
      },
      "execution_count": null,
      "outputs": []
    },
    {
      "cell_type": "code",
      "source": [
        "dataset_train.head()"
      ],
      "metadata": {
        "id": "eA-eQBPpCktO"
      },
      "execution_count": null,
      "outputs": []
    },
    {
      "cell_type": "code",
      "source": [
        "plt.plot(dataset_train, color='blue', label='Vendas')\n",
        "plt.title('Vendas')\n",
        "plt.xlabel('Tempo')\n",
        "plt.ylabel('Vendas')\n",
        "plt.legend()\n",
        "plt.show()"
      ],
      "metadata": {
        "id": "mp8UsnamCrmC"
      },
      "execution_count": null,
      "outputs": []
    },
    {
      "cell_type": "code",
      "source": [
        "sc = MinMaxScaler(feature_range=(0,1))\n",
        "training_set_scaled = sc.fit_transform(dataset_train)"
      ],
      "metadata": {
        "id": "0QIhtTrNDOFI"
      },
      "execution_count": 6,
      "outputs": []
    },
    {
      "cell_type": "code",
      "source": [
        "X_train = []\n",
        "y_train = []\n",
        "for i in range(90, len(training_set_scaled)):\n",
        "    data = training_set_scaled[i-90:i, 0]\n",
        "    X_train.append(data)\n",
        "    y_train.append(training_set_scaled[i, 0])\n",
        "X_train = np.array(X_train).reshape(-1, 90, 1)\n",
        "y_train = np.array(y_train)"
      ],
      "metadata": {
        "id": "3RA98C6wDolX"
      },
      "execution_count": 7,
      "outputs": []
    },
    {
      "cell_type": "code",
      "source": [
        "modelo = Sequential()\n",
        "modelo.add(LSTM(units=100, return_sequences=True, input_shape=(X_train.shape[1], 1)))\n",
        "modelo.add(Dropout(0.2))\n",
        "modelo.add(LSTM(units=100, return_sequences=True))\n",
        "modelo.add(Dropout(0.2))\n",
        "modelo.add(LSTM(units=100, return_sequences=True))\n",
        "modelo.add(Dropout(0.2))\n",
        "modelo.add(LSTM(units=100))\n",
        "modelo.add(Dropout(0.2))\n",
        "modelo.add(Dense(units=1))"
      ],
      "metadata": {
        "id": "mUplSu3YEPls"
      },
      "execution_count": null,
      "outputs": []
    },
    {
      "cell_type": "code",
      "source": [
        "modelo.compile(optimizer='adam', loss='mean_squared_error')\n",
        "modelo.fit(X_train, y_train, epochs=300, batch_size=1)"
      ],
      "metadata": {
        "id": "txemPco1EuVI"
      },
      "execution_count": null,
      "outputs": []
    },
    {
      "cell_type": "code",
      "source": [
        "dataset_test = pd.read_csv('Salestest.csv')"
      ],
      "metadata": {
        "id": "cVlRLm4b7Vze"
      },
      "execution_count": 10,
      "outputs": []
    },
    {
      "cell_type": "code",
      "source": [
        "dataset_test.shape"
      ],
      "metadata": {
        "id": "jlwtm0zW7yI7"
      },
      "execution_count": null,
      "outputs": []
    },
    {
      "cell_type": "code",
      "source": [
        "train_values = dataset_train['data'].values\n",
        "test_values = dataset_test['data'].values\n",
        "total_values = np.concatenate((train_values, test_values), axis=0)\n",
        "time_index = range(len(total_values))\n",
        "plt.plot(time_index[:len(train_values)], train_values, color='blue', label='Vendas - Treinamento')\n",
        "plt.plot(time_index[len(train_values):], test_values, color='red', label='Vendas - Teste')\n",
        "plt.title('Vendas')\n",
        "plt.xlabel('Tempo')\n",
        "plt.ylabel('Vendas')\n",
        "plt.legend()\n",
        "plt.show()"
      ],
      "metadata": {
        "id": "M--nrVy471vr"
      },
      "execution_count": null,
      "outputs": []
    },
    {
      "cell_type": "code",
      "source": [
        "dataset_test_anomalies = dataset_test.copy()\n",
        "dataset_test_anomalies.loc[:9, 'data'] = 90\n",
        "dataset_test_anomalies.loc[10:34, 'data'] = np.random.uniform(100,200, size=(25,))\n",
        "dataset_test_anomalies.loc[35:, 'data'] = 90"
      ],
      "metadata": {
        "id": "wyFN7o-J8luV"
      },
      "execution_count": null,
      "outputs": []
    },
    {
      "cell_type": "code",
      "source": [
        "plt.plot(dataset_test, color='blue', label='Vendas')\n",
        "plt.plot(dataset_test_anomalies, color='red', label='Vendas com Anomalias')\n",
        "plt.title('Vendas')\n",
        "plt.xlabel('Tempo')\n",
        "plt.ylabel('Vendas')\n",
        "plt.legend()\n",
        "plt.show()"
      ],
      "metadata": {
        "id": "c-kSf6ub9K2U"
      },
      "execution_count": null,
      "outputs": []
    },
    {
      "cell_type": "code",
      "source": [
        "dataset_total = pd.concat((dataset_train['data'], dataset_test['data']), axis=0)\n",
        "inputs = dataset_total[len(dataset_total) - len(dataset_test) - 90:]\n",
        "inputs = pd.DataFrame(inputs, columns=['data'])\n",
        "inputs = sc.transform(inputs)"
      ],
      "metadata": {
        "id": "GD_qHqvT9fb4"
      },
      "execution_count": 15,
      "outputs": []
    },
    {
      "cell_type": "code",
      "source": [
        "dataset_total_anomalies = pd.concat((dataset_train['data'], dataset_test_anomalies['data']), axis=0)\n",
        "inputs_anomalies = dataset_total_anomalies[len(dataset_total_anomalies) - len(dataset_test_anomalies) - 90:]\n",
        "inputs_anomalies = pd.DataFrame(inputs_anomalies, columns=['data'])\n",
        "inputs_anomalies = sc.transform(inputs_anomalies)"
      ],
      "metadata": {
        "id": "dHE68ioe9_fb"
      },
      "execution_count": 16,
      "outputs": []
    },
    {
      "cell_type": "code",
      "source": [
        "X_test = []\n",
        "X_test_anomalies = []\n",
        "for i in range(90, len(inputs)):\n",
        "    X_test.append(inputs[i-90:i, 0])\n",
        "    X_test_anomalies.append(inputs_anomalies[i-90:i, 0])\n",
        "X_test, X_test_anomalies = np.array(X_test), np.array(X_test_anomalies)\n",
        "X_test = np.reshape(X_test, (X_test.shape[0], X_test.shape[1], 1))\n",
        "X_test_anomalies = np.reshape(X_test_anomalies, (X_test_anomalies.shape[0], X_test_anomalies.shape[1], 1))"
      ],
      "metadata": {
        "id": "-A5CkBkg-zAK"
      },
      "execution_count": 17,
      "outputs": []
    },
    {
      "cell_type": "code",
      "source": [
        "predicted_sales = modelo.predict(X_test)\n",
        "predicted_sales = sc.inverse_transform(predicted_sales)\n",
        "\n",
        "predicted_sales_anomalies = modelo.predict(X_test_anomalies)\n",
        "predicted_sales_anomalies = sc.inverse_transform(predicted_sales_anomalies)\n",
        "\n",
        "mse_test = mean_squared_error(test_values, predicted_sales)\n",
        "mse_test_anomalies = mean_squared_error(test_values, predicted_sales_anomalies)"
      ],
      "metadata": {
        "id": "xdmgv0tK_ekD"
      },
      "execution_count": null,
      "outputs": []
    },
    {
      "cell_type": "code",
      "source": [
        "print(f'MSE para os dados normais: {mse_test}')\n",
        "print(f'MSE para os dados com anomalias: {mse_test_anomalies}')"
      ],
      "metadata": {
        "colab": {
          "base_uri": "https://localhost:8080/"
        },
        "id": "Fdx_XHjCAB5G",
        "outputId": "db60758d-5f00-4c39-e6e2-92ad682bf123"
      },
      "execution_count": 19,
      "outputs": [
        {
          "output_type": "stream",
          "name": "stdout",
          "text": [
            "MSE para os dados normais: 8980.243475770732\n",
            "MSE para os dados com anomalias: 15059.837725890082\n"
          ]
        }
      ]
    },
    {
      "cell_type": "code",
      "source": [
        "plt.plot(test_values, color='blue', label='Valores Reais')\n",
        "plt.plot(predicted_sales_anomalies, color='red', label='Previsões com Anomalias')\n",
        "plt.plot(predicted_sales, color='green', label='Previsões')\n",
        "plt.title('Previsões com Anomalias, sem Anomalias e Valores Reais')\n",
        "plt.xlabel('Tempo')\n",
        "plt.ylabel('Vendas')\n",
        "plt.legend()\n",
        "plt.show()"
      ],
      "metadata": {
        "id": "HkTI1UprAdok"
      },
      "execution_count": null,
      "outputs": []
    }
  ]
}