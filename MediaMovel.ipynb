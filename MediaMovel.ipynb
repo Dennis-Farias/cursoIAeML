{
  "nbformat": 4,
  "nbformat_minor": 0,
  "metadata": {
    "colab": {
      "provenance": [],
      "authorship_tag": "ABX9TyM9lcflwkdyyqJzgAkHjCEd",
      "include_colab_link": true
    },
    "kernelspec": {
      "name": "python3",
      "display_name": "Python 3"
    },
    "language_info": {
      "name": "python"
    }
  },
  "cells": [
    {
      "cell_type": "markdown",
      "metadata": {
        "id": "view-in-github",
        "colab_type": "text"
      },
      "source": [
        "<a href=\"https://colab.research.google.com/github/Dennis-Farias/cursoIAeML/blob/main/MediaMovel.ipynb\" target=\"_parent\"><img src=\"https://colab.research.google.com/assets/colab-badge.svg\" alt=\"Open In Colab\"/></a>"
      ]
    },
    {
      "cell_type": "code",
      "execution_count": 2,
      "metadata": {
        "id": "U3jxGmwF4fQT"
      },
      "outputs": [],
      "source": [
        "import pandas as pd\n",
        "import numpy as np\n",
        "import matplotlib.pyplot as plt"
      ]
    },
    {
      "cell_type": "code",
      "source": [
        "data = np.random.normal(0,1,100) + np.linspace(0,1,100)\n",
        "data[50] = 7\n",
        "data[25] = 6"
      ],
      "metadata": {
        "id": "bIXdji204w8y"
      },
      "execution_count": 18,
      "outputs": []
    },
    {
      "cell_type": "code",
      "source": [
        "plt.plot(data, label='dados')\n",
        "plt.title('Dados Originais')\n",
        "plt.show()"
      ],
      "metadata": {
        "id": "i1NWoRnJ499P"
      },
      "execution_count": null,
      "outputs": []
    },
    {
      "cell_type": "code",
      "source": [
        "s = pd.Series(data)\n",
        "s_ma = s.rolling(10).mean()"
      ],
      "metadata": {
        "id": "RZVQyrFP5ISF"
      },
      "execution_count": 20,
      "outputs": []
    },
    {
      "cell_type": "code",
      "source": [
        "plt.plot(s_ma, label='dados')\n",
        "plt.title('Média Móvel')\n",
        "plt.show()"
      ],
      "metadata": {
        "id": "CTWQGkt95SGI"
      },
      "execution_count": null,
      "outputs": []
    },
    {
      "cell_type": "code",
      "source": [
        "anomalies = s[np.abs(s - s_ma) > 3 * s.std()]"
      ],
      "metadata": {
        "id": "aVOLTVVy5uEs"
      },
      "execution_count": 22,
      "outputs": []
    },
    {
      "cell_type": "code",
      "source": [
        "anomalies"
      ],
      "metadata": {
        "id": "8gJYxili587p"
      },
      "execution_count": null,
      "outputs": []
    },
    {
      "cell_type": "code",
      "source": [
        "plt.plot(s, label='Dados')\n",
        "plt.plot(s_ma, label='Média Móvel')\n",
        "plt.plot(anomalies,'ro', label='Anomalias')\n",
        "plt.title('Gráfico com Anomalias')\n",
        "plt.show()"
      ],
      "metadata": {
        "id": "2dHliPcH6IQ5"
      },
      "execution_count": null,
      "outputs": []
    }
  ]
}